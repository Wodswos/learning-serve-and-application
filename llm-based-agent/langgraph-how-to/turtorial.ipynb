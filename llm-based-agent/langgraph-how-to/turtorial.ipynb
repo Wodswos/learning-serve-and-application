{
 "cells": [
  {
   "cell_type": "code",
   "execution_count": 2,
   "metadata": {},
   "outputs": [],
   "source": [
    "import getpass\n",
    "import os\n",
    "\n",
    "# os.environ[\"OPENAI_API_KEY\"] = getpass.getpass()"
   ]
  },
  {
   "cell_type": "markdown",
   "metadata": {},
   "source": [
    "# Basic"
   ]
  },
  {
   "cell_type": "code",
   "execution_count": 3,
   "metadata": {},
   "outputs": [
    {
     "data": {
      "text/plain": [
       "CompiledStateGraph(nodes={'__start__': PregelNode(config={'tags': ['langsmith:hidden']}, channels=['__start__'], triggers=['__start__'], writers=[ChannelWrite<__root__>(recurse=True, writes=[ChannelWriteEntry(channel='__root__', value=<object object at 0x7f50c8fc1a60>, skip_none=True, mapper=None)]), ChannelWrite<start:oracle>(recurse=True, writes=[ChannelWriteEntry(channel='start:oracle', value='__start__', skip_none=False, mapper=None)])]), 'oracle': PregelNode(config={'tags': []}, channels=['__root__'], triggers=['start:oracle'], writers=[ChannelWrite<oracle,__root__>(recurse=True, writes=[ChannelWriteEntry(channel='oracle', value='oracle', skip_none=False, mapper=None), ChannelWriteEntry(channel='__root__', value=<object object at 0x7f50c8fc1a60>, skip_none=True, mapper=None)])])}, channels={'__root__': <langgraph.channels.binop.BinaryOperatorAggregate object at 0x7f50b2bd2320>, '__start__': <langgraph.channels.ephemeral_value.EphemeralValue object at 0x7f50b3a602b0>, 'oracle': <langgraph.channels.ephemeral_value.EphemeralValue object at 0x7f50b2bd2470>, 'start:oracle': <langgraph.channels.ephemeral_value.EphemeralValue object at 0x7f50b2bd22f0>}, auto_validate=False, stream_mode='updates', output_channels='__root__', stream_channels='__root__', input_channels='__start__', builder=<langgraph.graph.message.MessageGraph object at 0x7f50d8290a60>)"
      ]
     },
     "execution_count": 3,
     "metadata": {},
     "output_type": "execute_result"
    }
   ],
   "source": [
    "from langchain_openai import ChatOpenAI\n",
    "from langchain_core.messages import HumanMessage\n",
    "from langgraph.graph import END, MessageGraph\n",
    "\n",
    "model = ChatOpenAI(temperature=0, base_url='https://api.deepseek.com', model='deepseek-chat')\n",
    "\n",
    "graph = MessageGraph()\n",
    "\n",
    "graph.add_node(\"oracle\", model)\n",
    "graph.add_edge(\"oracle\", END)\n",
    "\n",
    "graph.set_entry_point(\"oracle\")\n",
    "\n",
    "runnable = graph.compile()\n",
    "runnable"
   ]
  },
  {
   "cell_type": "code",
   "execution_count": 4,
   "metadata": {},
   "outputs": [
    {
     "data": {
      "text/plain": [
       "[HumanMessage(content='What is 1 + 1?', id='344f159c-fd73-4b6b-a0c2-b14491c50a18'),\n",
       " AIMessage(content=' 1 + 1 equals 2.', response_metadata={'token_usage': {'completion_tokens': 9, 'prompt_tokens': 15, 'total_tokens': 24}, 'model_name': 'deepseek-chat', 'system_fingerprint': None, 'finish_reason': 'stop', 'logprobs': None}, id='run-b4a4796c-ffd2-44c3-8dcf-4fdce1d4f55b-0')]"
      ]
     },
     "execution_count": 4,
     "metadata": {},
     "output_type": "execute_result"
    }
   ],
   "source": [
    "runnable.invoke(HumanMessage(\"What is 1 + 1?\"))"
   ]
  },
  {
   "cell_type": "markdown",
   "metadata": {},
   "source": [
    "# 条件分支"
   ]
  },
  {
   "cell_type": "code",
   "execution_count": 5,
   "metadata": {},
   "outputs": [],
   "source": [
    "from langchain_core.tools import tool\n",
    "from langgraph.prebuilt import ToolNode\n",
    "\n",
    "@tool\n",
    "def multiply(first_number: int, second_number: int):\n",
    "    \"\"\"Multiplies two numbers together.\"\"\"\n",
    "    return first_number * second_number\n",
    "\n",
    "model = ChatOpenAI(temperature=0, base_url='https://api.deepseek.com', model='deepseek-chat')\n",
    "model_with_tools = model.bind_tools([multiply])\n",
    "\n",
    "builder = MessageGraph()\n",
    "\n",
    "builder.add_node(\"oracle\", model_with_tools)\n",
    "\n",
    "tool_node = ToolNode([multiply])\n",
    "builder.add_node(\"multiply\", tool_node)\n",
    "\n",
    "builder.add_edge(\"multiply\", END)\n",
    "\n",
    "builder.set_entry_point(\"oracle\")"
   ]
  },
  {
   "cell_type": "code",
   "execution_count": 6,
   "metadata": {},
   "outputs": [],
   "source": [
    "from typing import Literal\n",
    "\n",
    "# state: List[BaseMessage]\n",
    "def router(state) -> Literal[\"multiply\", \"__end__\"]:\n",
    "    tool_calls = state[-1].additional_kwargs.get(\"tool_calls\", [])\n",
    "    if len(tool_calls):\n",
    "        return \"multiply\"\n",
    "    else:\n",
    "        return \"__end__\"\n",
    "\n",
    "builder.add_conditional_edges(\"oracle\", router)"
   ]
  },
  {
   "cell_type": "code",
   "execution_count": 9,
   "metadata": {},
   "outputs": [
    {
     "data": {
      "text/plain": [
       "[HumanMessage(content='What is 45343 * 45343 * 456? I would prefer you to call the tool.', id='c3c0c4ee-c112-4f8c-bc1f-eeef93c60507'),\n",
       " AIMessage(content=\" To calculate the expression \\\\( 45343 \\\\times 45343 \\\\times 456 \\\\), we can use a calculator or a computational tool. Here's the calculation:\\n\\n1. Calculate \\\\( 45343 \\\\times 45343 \\\\):\\n   \\\\[ 45343 \\\\times 45343 = 2055998649 \\\\]\\n\\n2. Multiply the result by \\\\( 456 \\\\):\\n   \\\\[ 2055998649 \\\\times 456 = 938035389044 \\\\]\\n\\nThus, the result of \\\\( 45343 \\\\times 45343 \\\\times 456 \\\\) is \\\\( 938035389044 \\\\).\", response_metadata={'token_usage': {'completion_tokens': 192, 'prompt_tokens': 37, 'total_tokens': 229}, 'model_name': 'deepseek-chat', 'system_fingerprint': None, 'finish_reason': 'stop', 'logprobs': None}, id='run-19bb5ff1-0ac4-4d7e-88f4-92390ffe70e2-0')]"
      ]
     },
     "execution_count": 9,
     "metadata": {},
     "output_type": "execute_result"
    }
   ],
   "source": [
    "runnable = builder.compile()\n",
    "\n",
    "runnable.invoke(HumanMessage(\"What is 45343 * 45343 ? I would prefer you to call the tool.\"))"
   ]
  },
  {
   "cell_type": "code",
   "execution_count": null,
   "metadata": {},
   "outputs": [],
   "source": []
  }
 ],
 "metadata": {
  "kernelspec": {
   "display_name": "Python 3.10.12 64-bit",
   "language": "python",
   "name": "python3"
  },
  "language_info": {
   "codemirror_mode": {
    "name": "ipython",
    "version": 3
   },
   "file_extension": ".py",
   "mimetype": "text/x-python",
   "name": "python",
   "nbconvert_exporter": "python",
   "pygments_lexer": "ipython3",
   "version": "3.10.12"
  },
  "vscode": {
   "interpreter": {
    "hash": "e7370f93d1d0cde622a1f8e1c04877d8463912d04d973331ad4851f04de6915a"
   }
  }
 },
 "nbformat": 4,
 "nbformat_minor": 2
}
