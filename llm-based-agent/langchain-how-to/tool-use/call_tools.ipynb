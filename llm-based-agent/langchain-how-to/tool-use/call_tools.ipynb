{
 "cells": [
  {
   "cell_type": "code",
   "execution_count": 26,
   "metadata": {},
   "outputs": [],
   "source": [
    "from langchain_community.tools import MoveFileTool\n",
    "from langchain_core.messages import HumanMessage\n",
    "from langchain_core.utils.function_calling import convert_to_openai_function\n",
    "from langchain_openai import ChatOpenAI"
   ]
  },
  {
   "cell_type": "code",
   "execution_count": 27,
   "metadata": {},
   "outputs": [],
   "source": [
    "import os\n",
    "os.environ['OPENAI_API_KEY'] = \"sk-6e1e4e791ae94585bbabb61be596c568\"\n",
    "\n",
    "model = ChatOpenAI(model=\"qwen-max\", base_url=\"https://dashscope.aliyuncs.com/compatible-mode/v1\")"
   ]
  },
  {
   "cell_type": "code",
   "execution_count": 28,
   "metadata": {},
   "outputs": [],
   "source": [
    "tools = [MoveFileTool()]\n",
    "functions = [convert_to_openai_function(t) for t in tools]"
   ]
  },
  {
   "cell_type": "code",
   "execution_count": 29,
   "metadata": {},
   "outputs": [
    {
     "data": {
      "text/plain": [
       "{'name': 'move_file',\n",
       " 'description': 'Move or rename a file from one location to another',\n",
       " 'parameters': {'type': 'object',\n",
       "  'properties': {'source_path': {'description': 'Path of the file to move',\n",
       "    'type': 'string'},\n",
       "   'destination_path': {'description': 'New path for the moved file',\n",
       "    'type': 'string'}},\n",
       "  'required': ['source_path', 'destination_path']}}"
      ]
     },
     "execution_count": 29,
     "metadata": {},
     "output_type": "execute_result"
    }
   ],
   "source": [
    "functions[0]"
   ]
  },
  {
   "cell_type": "code",
   "execution_count": 30,
   "metadata": {},
   "outputs": [],
   "source": [
    "message = model.invoke(\n",
    "    [HumanMessage(content=\"move file foo to bar, use the tool I provided\")], functions=functions\n",
    ")"
   ]
  },
  {
   "cell_type": "code",
   "execution_count": 31,
   "metadata": {},
   "outputs": [
    {
     "data": {
      "text/plain": [
       "AIMessage(content='I\\'m sorry, but as an AI text-based model, I don\\'t have access to any external tools or files directly. However, I can guide you through the process of moving a file named \"foo\" to a location or filename \"bar\" using common command-line tools or graphical interfaces across different operating systems.\\n\\n### Command-Line (Terminal)\\n\\n#### On Linux or macOS:\\nYou can use the `mv` command to move and rename files:\\n\\n```bash\\nmv foo bar\\n```\\n\\nThis command moves the file `foo` to `bar`. If `bar` is an existing directory, the file `foo` will be moved into that directory. If `bar` does not exist and is not a directory name, `foo` will be renamed to `bar`.\\n\\n#### On Windows (using Command Prompt):\\nYou would also use the `move` command:\\n\\n```cmd\\nmove foo bar\\n```\\n\\nThe behavior is similar to the `mv` command in Unix-like systems.\\n\\n### Graphical User Interface (GUI)\\n\\nIf you\\'re using a GUI (like Windows Explorer, macOS Finder, or a file manager in Linux):\\n\\n1. **Locate** the file named `foo`.\\n2. **Select** the file by clicking on it.\\n3. **Right-click** the selected file and choose `Cut` or press `Ctrl+X` (Windows/Linux) or `Command+X` (macOS).\\n4. **Navigate** to the location where you want to move the file to or the new filename if you\\'re renaming it within the same directory.\\n5. **Right-click** in the destination folder or空白 area and choose `Paste` or press `Ctrl+V` (Windows/Linux) or `Command+V` (macOS).\\n\\nRemember, replace `foo` and `bar` with your actual file names or paths as necessary. If `bar` represents a directory, ensure you include the full path to maintain clarity.', response_metadata={'token_usage': {'completion_tokens': 392, 'prompt_tokens': 19, 'total_tokens': 411}, 'model_name': 'qwen-max', 'system_fingerprint': None, 'finish_reason': 'stop', 'logprobs': None}, id='run-541214a8-69fb-4f52-ba71-b5e6997a012e-0')"
      ]
     },
     "execution_count": 31,
     "metadata": {},
     "output_type": "execute_result"
    }
   ],
   "source": [
    "message"
   ]
  },
  {
   "cell_type": "code",
   "execution_count": 32,
   "metadata": {},
   "outputs": [
    {
     "name": "stdout",
     "output_type": "stream",
     "text": [
      "I'm sorry, but as an AI text-based model, I don't have access to any external tools or files directly. However, I can guide you through the process of moving a file named \"foo\" to a location or filename \"bar\" using common command-line tools or graphical interfaces across different operating systems.\n",
      "\n",
      "### Command-Line (Terminal)\n",
      "\n",
      "#### On Linux or macOS:\n",
      "You can use the `mv` command to move and rename files:\n",
      "\n",
      "```bash\n",
      "mv foo bar\n",
      "```\n",
      "\n",
      "This command moves the file `foo` to `bar`. If `bar` is an existing directory, the file `foo` will be moved into that directory. If `bar` does not exist and is not a directory name, `foo` will be renamed to `bar`.\n",
      "\n",
      "#### On Windows (using Command Prompt):\n",
      "You would also use the `move` command:\n",
      "\n",
      "```cmd\n",
      "move foo bar\n",
      "```\n",
      "\n",
      "The behavior is similar to the `mv` command in Unix-like systems.\n",
      "\n",
      "### Graphical User Interface (GUI)\n",
      "\n",
      "If you're using a GUI (like Windows Explorer, macOS Finder, or a file manager in Linux):\n",
      "\n",
      "1. **Locate** the file named `foo`.\n",
      "2. **Select** the file by clicking on it.\n",
      "3. **Right-click** the selected file and choose `Cut` or press `Ctrl+X` (Windows/Linux) or `Command+X` (macOS).\n",
      "4. **Navigate** to the location where you want to move the file to or the new filename if you're renaming it within the same directory.\n",
      "5. **Right-click** in the destination folder or空白 area and choose `Paste` or press `Ctrl+V` (Windows/Linux) or `Command+V` (macOS).\n",
      "\n",
      "Remember, replace `foo` and `bar` with your actual file names or paths as necessary. If `bar` represents a directory, ensure you include the full path to maintain clarity.\n"
     ]
    }
   ],
   "source": [
    "print(message.content)"
   ]
  },
  {
   "cell_type": "code",
   "execution_count": null,
   "metadata": {},
   "outputs": [],
   "source": []
  }
 ],
 "metadata": {
  "kernelspec": {
   "display_name": "Python 3.10.12 64-bit",
   "language": "python",
   "name": "python3"
  },
  "language_info": {
   "codemirror_mode": {
    "name": "ipython",
    "version": 3
   },
   "file_extension": ".py",
   "mimetype": "text/x-python",
   "name": "python",
   "nbconvert_exporter": "python",
   "pygments_lexer": "ipython3",
   "version": "3.10.12"
  },
  "orig_nbformat": 4,
  "vscode": {
   "interpreter": {
    "hash": "e7370f93d1d0cde622a1f8e1c04877d8463912d04d973331ad4851f04de6915a"
   }
  }
 },
 "nbformat": 4,
 "nbformat_minor": 2
}
